{
 "cells": [
  {
   "attachments": {},
   "cell_type": "markdown",
   "metadata": {},
   "source": [
    "# Removing duplicates with FiftyOne"
   ]
  },
  {
   "attachments": {},
   "cell_type": "markdown",
   "metadata": {},
   "source": [
    "To install fiftyOne, you can use a pip install command:\n",
    "\n",
    "pip install fiftyone or pip install fiftyone[desktop] to install the desktop app as well. Use the first option.\n",
    "\n",
    "Use a conda environment separate for fiftyone"
   ]
  },
  {
   "cell_type": "code",
   "execution_count": 1,
   "metadata": {},
   "outputs": [],
   "source": [
    "import fiftyone as fo\n",
    "import fiftyone.brain as fob\n",
    "from fiftyone import ViewField as F\n",
    "\n",
    "import os\n",
    "import shutil\n"
   ]
  },
  {
   "cell_type": "code",
   "execution_count": 2,
   "metadata": {},
   "outputs": [],
   "source": [
    "name = \"datasetname\" # Name of dataset, note, there will be an error which may show up in the next code block which says dataset name not found, just change the name again to anything and it will work.\n",
    "dataset_dir = \"/home/intern/Desktop/fiftyone_test/test_folder\" # Path to dataset\n",
    "\n",
    "new_images_dir = \"/home/intern/Desktop/fiftyone_test/de_duplicate_dataset\" # Path to new folder where images without duplicates will be stored\n",
    "labels_dir = \"/home/intern/Desktop/fiftyone_test/labels\" # Path to folder where labels all labels with duplicates are stored"
   ]
  },
  {
   "attachments": {},
   "cell_type": "markdown",
   "metadata": {},
   "source": [
    "<b> Dataset path: </b>\n",
    "\n",
    "This is for the image dataset:\n",
    "Foldername -> image1.ext, image2.ext\n",
    "\n",
    "This is for the annotation dataset, will contain the bounding box information:\n",
    "Foldername -> image1.txt, image2.txt\n",
    "\n",
    "<b> Note: The image and annotation dataset should be separate folders. </b>"
   ]
  },
  {
   "cell_type": "code",
   "execution_count": 3,
   "metadata": {},
   "outputs": [
    {
     "name": "stdout",
     "output_type": "stream",
     "text": [
      " 100% |███████████████████| 19/19 [23.4ms elapsed, 0s remaining, 813.4 samples/s]     \n",
      "Name:        datasetname\n",
      "Media type:  image\n",
      "Num samples: 19\n",
      "Persistent:  False\n",
      "Tags:        []\n",
      "Sample fields:\n",
      "    id:       fiftyone.core.fields.ObjectIdField\n",
      "    filepath: fiftyone.core.fields.StringField\n",
      "    tags:     fiftyone.core.fields.ListField(fiftyone.core.fields.StringField)\n",
      "    metadata: fiftyone.core.fields.EmbeddedDocumentField(fiftyone.core.metadata.ImageMetadata)\n"
     ]
    }
   ],
   "source": [
    "# Create the dataset\n",
    "dataset = fo.Dataset.from_dir(\n",
    "    dataset_dir=dataset_dir,\n",
    "    dataset_type=fo.types.ImageDirectory, # Or ImageClassificationDirectoryTree for classification dataset\n",
    "    name=name,\n",
    ")\n",
    "\n",
    "print(dataset)"
   ]
  },
  {
   "cell_type": "code",
   "execution_count": 4,
   "metadata": {},
   "outputs": [
    {
     "name": "stdout",
     "output_type": "stream",
     "text": [
      "[<Sample: {\n",
      "    'id': '645ccbf79ebacd7d1cc38681',\n",
      "    'media_type': 'image',\n",
      "    'filepath': '/home/intern/Desktop/fiftyone_test/test_folder/0ad5583f-Screenshot_from_2022-09-28_14-18-26_cleanup1.jpeg',\n",
      "    'tags': [],\n",
      "    'metadata': None,\n",
      "}>, <Sample: {\n",
      "    'id': '645ccbf79ebacd7d1cc38682',\n",
      "    'media_type': 'image',\n",
      "    'filepath': '/home/intern/Desktop/fiftyone_test/test_folder/25628053-Screenshot_from_2022-09-28_14-42-47_cleanup.jpeg',\n",
      "    'tags': [],\n",
      "    'metadata': None,\n",
      "}>, <Sample: {\n",
      "    'id': '645ccbf79ebacd7d1cc38683',\n",
      "    'media_type': 'image',\n",
      "    'filepath': '/home/intern/Desktop/fiftyone_test/test_folder/5815f7ee-Screenshot_from_2022-09-28_12-00-33_cleanup.png',\n",
      "    'tags': [],\n",
      "    'metadata': None,\n",
      "}>, <Sample: {\n",
      "    'id': '645ccbf79ebacd7d1cc38684',\n",
      "    'media_type': 'image',\n",
      "    'filepath': '/home/intern/Desktop/fiftyone_test/test_folder/59b1978f-Screenshot_from_2022-09-28_14-43-58_cleanup.png',\n",
      "    'tags': [],\n",
      "    'metadata': None,\n",
      "}>, <Sample: {\n",
      "    'id': '645ccbf79ebacd7d1cc38685',\n",
      "    'media_type': 'image',\n",
      "    'filepath': '/home/intern/Desktop/fiftyone_test/test_folder/611e22ea-Screenshot_from_2022-09-28_14-18-36_cleanup.png',\n",
      "    'tags': [],\n",
      "    'metadata': None,\n",
      "}>, <Sample: {\n",
      "    'id': '645ccbf79ebacd7d1cc38686',\n",
      "    'media_type': 'image',\n",
      "    'filepath': '/home/intern/Desktop/fiftyone_test/test_folder/64d88562-Screenshot_from_2022-09-27_16-00-43_cleanup.png',\n",
      "    'tags': [],\n",
      "    'metadata': None,\n",
      "}>, <Sample: {\n",
      "    'id': '645ccbf79ebacd7d1cc38687',\n",
      "    'media_type': 'image',\n",
      "    'filepath': '/home/intern/Desktop/fiftyone_test/test_folder/79fe3db7-output1_12510.jpg',\n",
      "    'tags': [],\n",
      "    'metadata': None,\n",
      "}>, <Sample: {\n",
      "    'id': '645ccbf79ebacd7d1cc38688',\n",
      "    'media_type': 'image',\n",
      "    'filepath': '/home/intern/Desktop/fiftyone_test/test_folder/8729e45b-Screenshot_from_2022-09-27_15-54-48_cleanup.png',\n",
      "    'tags': [],\n",
      "    'metadata': None,\n",
      "}>, <Sample: {\n",
      "    'id': '645ccbf79ebacd7d1cc38689',\n",
      "    'media_type': 'image',\n",
      "    'filepath': '/home/intern/Desktop/fiftyone_test/test_folder/8746498f-output1_10005.jpg',\n",
      "    'tags': [],\n",
      "    'metadata': None,\n",
      "}>, <Sample: {\n",
      "    'id': '645ccbf79ebacd7d1cc3868a',\n",
      "    'media_type': 'image',\n",
      "    'filepath': '/home/intern/Desktop/fiftyone_test/test_folder/94c9f84c-Screenshot_from_2022-09-28_14-33-21_cleanup.png',\n",
      "    'tags': [],\n",
      "    'metadata': None,\n",
      "}>, <Sample: {\n",
      "    'id': '645ccbf79ebacd7d1cc3868b',\n",
      "    'media_type': 'image',\n",
      "    'filepath': '/home/intern/Desktop/fiftyone_test/test_folder/a6b2910d-Screenshot_from_2022-10-05_10-45-08_cleanup.jpeg',\n",
      "    'tags': [],\n",
      "    'metadata': None,\n",
      "}>, <Sample: {\n",
      "    'id': '645ccbf79ebacd7d1cc3868c',\n",
      "    'media_type': 'image',\n",
      "    'filepath': '/home/intern/Desktop/fiftyone_test/test_folder/b7f8529c-Screenshot_from_2022-09-28_11-58-59_cleanup.png',\n",
      "    'tags': [],\n",
      "    'metadata': None,\n",
      "}>, <Sample: {\n",
      "    'id': '645ccbf79ebacd7d1cc3868d',\n",
      "    'media_type': 'image',\n",
      "    'filepath': '/home/intern/Desktop/fiftyone_test/test_folder/d3fc2811-Screenshot_from_2022-09-28_14-31-49_cleanup.png',\n",
      "    'tags': [],\n",
      "    'metadata': None,\n",
      "}>, <Sample: {\n",
      "    'id': '645ccbf79ebacd7d1cc3868e',\n",
      "    'media_type': 'image',\n",
      "    'filepath': '/home/intern/Desktop/fiftyone_test/test_folder/e7e814a7-Screenshot_from_2022-09-28_14-33-30_cleanup.png',\n",
      "    'tags': [],\n",
      "    'metadata': None,\n",
      "}>, <Sample: {\n",
      "    'id': '645ccbf79ebacd7d1cc3868f',\n",
      "    'media_type': 'image',\n",
      "    'filepath': '/home/intern/Desktop/fiftyone_test/test_folder/uuid (3rd copy).png',\n",
      "    'tags': [],\n",
      "    'metadata': None,\n",
      "}>, <Sample: {\n",
      "    'id': '645ccbf79ebacd7d1cc38690',\n",
      "    'media_type': 'image',\n",
      "    'filepath': '/home/intern/Desktop/fiftyone_test/test_folder/uuid (4th copy).png',\n",
      "    'tags': [],\n",
      "    'metadata': None,\n",
      "}>, <Sample: {\n",
      "    'id': '645ccbf79ebacd7d1cc38691',\n",
      "    'media_type': 'image',\n",
      "    'filepath': '/home/intern/Desktop/fiftyone_test/test_folder/uuid (another copy).png',\n",
      "    'tags': [],\n",
      "    'metadata': None,\n",
      "}>, <Sample: {\n",
      "    'id': '645ccbf79ebacd7d1cc38692',\n",
      "    'media_type': 'image',\n",
      "    'filepath': '/home/intern/Desktop/fiftyone_test/test_folder/uuid (copy).png',\n",
      "    'tags': [],\n",
      "    'metadata': None,\n",
      "}>]\n"
     ]
    }
   ],
   "source": [
    "print(dataset.head(18))"
   ]
  },
  {
   "cell_type": "code",
   "execution_count": 5,
   "metadata": {},
   "outputs": [
    {
     "name": "stdout",
     "output_type": "stream",
     "text": [
      "Computing embeddings...\n",
      " 100% |███████████████████| 19/19 [449.1ms elapsed, 0s remaining, 42.3 samples/s]     \n",
      "Computing uniqueness...\n",
      "Uniqueness computation complete\n",
      "Name:        datasetname\n",
      "Media type:  image\n",
      "Num samples: 19\n",
      "Persistent:  False\n",
      "Tags:        []\n",
      "Sample fields:\n",
      "    id:         fiftyone.core.fields.ObjectIdField\n",
      "    filepath:   fiftyone.core.fields.StringField\n",
      "    tags:       fiftyone.core.fields.ListField(fiftyone.core.fields.StringField)\n",
      "    metadata:   fiftyone.core.fields.EmbeddedDocumentField(fiftyone.core.metadata.ImageMetadata)\n",
      "    uniqueness: fiftyone.core.fields.FloatField\n"
     ]
    }
   ],
   "source": [
    "fob.compute_uniqueness(dataset) # Compute uniqueness of dataset image samples\n",
    "\n",
    "print(dataset)"
   ]
  },
  {
   "cell_type": "code",
   "execution_count": 6,
   "metadata": {},
   "outputs": [
    {
     "name": "stdout",
     "output_type": "stream",
     "text": [
      "<Sample: {\n",
      "    'id': '645ccbf79ebacd7d1cc38681',\n",
      "    'media_type': 'image',\n",
      "    'filepath': '/home/intern/Desktop/fiftyone_test/test_folder/0ad5583f-Screenshot_from_2022-09-28_14-18-26_cleanup1.jpeg',\n",
      "    'tags': [],\n",
      "    'metadata': None,\n",
      "    'uniqueness': 0.9206241333312318,\n",
      "}>\n"
     ]
    }
   ],
   "source": [
    "# View a sample from the dataset\n",
    "print(dataset.first())"
   ]
  },
  {
   "cell_type": "code",
   "execution_count": 7,
   "metadata": {},
   "outputs": [
    {
     "name": "stdout",
     "output_type": "stream",
     "text": [
      "Connected to FiftyOne on port 5151 at localhost.\n",
      "If you are not connecting to a remote session, you may need to start a new session and specify a port\n"
     ]
    },
    {
     "data": {
      "text/html": [
       "\n",
       "        <iframe\n",
       "            width=\"100%\"\n",
       "            height=\"800\"\n",
       "            src=\"http://localhost:5151/?notebook=True&subscription=3bb5ac7c-4db6-46d5-8e2b-e95ec4670ff5\"\n",
       "            frameborder=\"0\"\n",
       "            allowfullscreen\n",
       "            \n",
       "        ></iframe>\n",
       "        "
      ],
      "text/plain": [
       "<IPython.lib.display.IFrame at 0x7f80b7f076d0>"
      ]
     },
     "metadata": {},
     "output_type": "display_data"
    }
   ],
   "source": [
    "# View dataset in the App\n",
    "session = fo.launch_app(dataset)"
   ]
  },
  {
   "cell_type": "code",
   "execution_count": 22,
   "metadata": {},
   "outputs": [],
   "source": [
    "# Get a view of all samples with uniqueness == 0\n",
    "# duplicates_view = dataset.match({\"metadata.uniqueness\": 0})\n",
    "small_images_view = dataset.match(F(\"uniqueness\") == 0)\n",
    "\n",
    "# Mark as duplicates\n",
    "for sample in small_images_view:\n",
    "    sample.tags.append(\"duplicate\")\n",
    "    sample.save()"
   ]
  },
  {
   "cell_type": "code",
   "execution_count": 23,
   "metadata": {},
   "outputs": [
    {
     "name": "stdout",
     "output_type": "stream",
     "text": [
      "Dataset:     datasetname\n",
      "Media type:  image\n",
      "Num samples: 5\n",
      "Sample fields:\n",
      "    id:         fiftyone.core.fields.ObjectIdField\n",
      "    filepath:   fiftyone.core.fields.StringField\n",
      "    tags:       fiftyone.core.fields.ListField(fiftyone.core.fields.StringField)\n",
      "    metadata:   fiftyone.core.fields.EmbeddedDocumentField(fiftyone.core.metadata.ImageMetadata)\n",
      "    uniqueness: fiftyone.core.fields.FloatField\n",
      "View stages:\n",
      "    1. Match(filter={'$expr': {'$eq': [...]}})\n"
     ]
    }
   ],
   "source": [
    "print(small_images_view)"
   ]
  },
  {
   "cell_type": "code",
   "execution_count": 27,
   "metadata": {},
   "outputs": [
    {
     "name": "stdout",
     "output_type": "stream",
     "text": [
      "Directory '/home/intern/Desktop/fiftyone_test/de_duplicate_dataset' already exists; export will be merged with existing files\n",
      " 100% |█████████████████████| 5/5 [32.9ms elapsed, 0s remaining, 152.2 samples/s] \n"
     ]
    }
   ],
   "source": [
    "# Move the duplicate images to a new folder\n",
    "small_images_view.export(new_images_dir, fo.types.ImageDirectory)"
   ]
  },
  {
   "attachments": {},
   "cell_type": "markdown",
   "metadata": {},
   "source": [
    "The duplicates must be selected based on the uniqueness. If the uniqueness is 0, those will be duplicates and need to be selected in the fiftyone application."
   ]
  },
  {
   "cell_type": "code",
   "execution_count": null,
   "metadata": {},
   "outputs": [
    {
     "name": "stdout",
     "output_type": "stream",
     "text": [
      "['645b83faa730768b9742a83c', '645b83faa730768b9742a83d', '645b83faa730768b9742a840', '645b83faa730768b9742a83f', '645b83faa730768b9742a83e']\n"
     ]
    }
   ],
   "source": [
    "# # Get currently selected images from App\n",
    "# dup_ids = session.selected\n",
    "# print(dup_ids)\n",
    "\n",
    "# # Get view containing selected samples\n",
    "# dups_view = dataset.select(dup_ids)\n",
    "\n",
    "# # Mark as duplicates\n",
    "# for sample in dups_view:\n",
    "#     sample.tags.append(\"duplicate\")\n",
    "#     sample.save()"
   ]
  },
  {
   "attachments": {},
   "cell_type": "markdown",
   "metadata": {},
   "source": [
    "You can visualize the duplicates separately in the fiftyone application."
   ]
  },
  {
   "cell_type": "code",
   "execution_count": null,
   "metadata": {},
   "outputs": [],
   "source": [
    "# # Select samples with `duplicate` tag\n",
    "# dups_tag_view = dataset.match_tags(\"duplicate\")\n",
    "\n",
    "# # Open view in App\n",
    "# session.view = dups_tag_view"
   ]
  },
  {
   "attachments": {},
   "cell_type": "markdown",
   "metadata": {},
   "source": [
    "Use the code block below to export to a new folder with the duplicates removed."
   ]
  },
  {
   "cell_type": "code",
   "execution_count": null,
   "metadata": {},
   "outputs": [
    {
     "name": "stdout",
     "output_type": "stream",
     "text": [
      "Directory '/home/intern/Desktop/fiftyone_test/de_duplicate_dataset' already exists; export will be merged with existing files\n",
      " 100% |███████████████████| 14/14 [15.2ms elapsed, 0s remaining, 923.1 samples/s] \n"
     ]
    }
   ],
   "source": [
    "# # Get samples that do not have the `duplicate` tag\n",
    "# no_dups_view = dataset.match(~F(\"tags\").contains(\"duplicate\"))\n",
    "\n",
    "# # Export dataset to disk as a classification directory tree\n",
    "# no_dups_view.export(\n",
    "#     new_images_dir,\n",
    "#     fo.types.ImageDirectory\n",
    "# )"
   ]
  },
  {
   "attachments": {},
   "cell_type": "markdown",
   "metadata": {},
   "source": [
    "Use the code block below to check if the duplicates exist in the new folder with comparison to the new directory and then delete the duplicates from the original folder."
   ]
  },
  {
   "cell_type": "code",
   "execution_count": 28,
   "metadata": {},
   "outputs": [
    {
     "name": "stdout",
     "output_type": "stream",
     "text": [
      "Removed:  uuid (4th copy).png\n",
      "Removed:  uuid (another copy).png\n",
      "Removed:  uuid (copy).png\n",
      "Removed:  uuid.png\n",
      "Removed:  uuid (3rd copy).png\n"
     ]
    }
   ],
   "source": [
    "# Check if files exist in the new folder with original dataset folder. If they do, delete them from the original dataset folder\n",
    "for filename in os.listdir(new_images_dir):\n",
    "    if filename in os.listdir(dataset_dir):\n",
    "        os.remove(os.path.join(dataset_dir, filename))\n",
    "        print(\"Removed: \", filename)"
   ]
  },
  {
   "attachments": {},
   "cell_type": "markdown",
   "metadata": {},
   "source": [
    "Use the below code to check if the labels and images match. If the label does not match the image, it will be removed. This will help filter out the duplicate annotations from the label dataset."
   ]
  },
  {
   "cell_type": "code",
   "execution_count": null,
   "metadata": {},
   "outputs": [],
   "source": [
    "# Get a list of all image filenames\n",
    "image_filenames = [os.path.splitext(filename)[0] for filename in os.listdir(new_images_dir)]\n",
    "\n",
    "# Iterate over label filenames\n",
    "for label_filename in os.listdir(labels_dir):\n",
    "    # Get the corresponding image filename\n",
    "    image_filename = os.path.splitext(label_filename)[0]\n",
    "    # Check if the label filename matches an image filename\n",
    "    if image_filename not in image_filenames:\n",
    "        # Delete the label file\n",
    "        label_path = os.path.join(labels_dir, label_filename)\n",
    "        os.remove(label_path)\n"
   ]
  }
 ],
 "metadata": {
  "kernelspec": {
   "display_name": "fiftyone",
   "language": "python",
   "name": "python3"
  },
  "language_info": {
   "codemirror_mode": {
    "name": "ipython",
    "version": 3
   },
   "file_extension": ".py",
   "mimetype": "text/x-python",
   "name": "python",
   "nbconvert_exporter": "python",
   "pygments_lexer": "ipython3",
   "version": "3.10.0"
  },
  "orig_nbformat": 4
 },
 "nbformat": 4,
 "nbformat_minor": 2
}
